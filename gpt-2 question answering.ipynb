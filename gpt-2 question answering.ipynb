{
 "cells": [
  {
   "cell_type": "code",
   "execution_count": 1,
   "metadata": {},
   "outputs": [
    {
     "name": "stdout",
     "output_type": "stream",
     "text": [
      "WARNING:tensorflow:\n",
      "The TensorFlow contrib module will not be included in TensorFlow 2.0.\n",
      "For more information, please see:\n",
      "  * https://github.com/tensorflow/community/blob/master/rfcs/20180907-contrib-sunset.md\n",
      "  * https://github.com/tensorflow/addons\n",
      "  * https://github.com/tensorflow/io (for I/O related ops)\n",
      "If you depend on functionality not listed there, please file an issue.\n",
      "\n"
     ]
    }
   ],
   "source": [
    "import gpt_2_simple as gpt2\n",
    "#TensorFlow 2.0 is currently not supported(for gpt-2-simple), so TensorFlow 1.14/1.15 is recommended."
   ]
  },
  {
   "cell_type": "code",
   "execution_count": 2,
   "metadata": {},
   "outputs": [
    {
     "name": "stderr",
     "output_type": "stream",
     "text": [
      "Fetching checkpoint: 1.05Mit [00:00, 525Mit/s]                                                      \n",
      "Fetching encoder.json: 1.05Mit [00:00, 11.3Mit/s]                                                   \n",
      "Fetching hparams.json: 1.05Mit [00:00, 80.9Mit/s]                                                   \n",
      "Fetching model.ckpt.data-00000-of-00001: 498Mit [00:17, 28.7Mit/s]                                  \n",
      "Fetching model.ckpt.index: 1.05Mit [00:00, 350Mit/s]                                                \n",
      "Fetching model.ckpt.meta: 1.05Mit [00:00, 16.7Mit/s]                                                \n",
      "Fetching vocab.bpe: 1.05Mit [00:00, 16.7Mit/s]                                                      \n"
     ]
    }
   ],
   "source": [
    "model_name = '124M'\n",
    "run_name =\"run_10\" #the latest model\n",
    "#gpt2.download_gpt2(model_name=model_name) #Downloads the original pre-trained 124M model (run once)"
   ]
  },
  {
   "cell_type": "code",
   "execution_count": 3,
   "metadata": {},
   "outputs": [
    {
     "name": "stdout",
     "output_type": "stream",
     "text": [
      "Loading checkpoint checkpoint\\run_10\\model-200\n",
      "INFO:tensorflow:Restoring parameters from checkpoint\\run_10\\model-200\n"
     ]
    }
   ],
   "source": [
    "sess = gpt2.start_tf_sess()\n",
    "gpt2.load_gpt2(sess, run_name=run_name)"
   ]
  },
  {
   "cell_type": "code",
   "execution_count": 4,
   "metadata": {},
   "outputs": [],
   "source": [
    "def generate_reply(user_question, num_answers=1):\n",
    "    text_input = \"<|startoftext|>\" + user_question\n",
    "    gen_ans =gpt2.generate(sess,\n",
    "                  run_name=run_name,\n",
    "                  length=40,\n",
    "                  temperature=1,\n",
    "                  prefix=text_input,\n",
    "                  truncate=\"<|endoftext|>\",\n",
    "                  include_prefix=False,\n",
    "                  nsamples=num_answers,\n",
    "                  batch_size=num_answers,\n",
    "                  top_p=0.9,\n",
    "                  return_as_list=True\n",
    "                  )\n",
    "    return gen_ans"
   ]
  },
  {
   "cell_type": "code",
   "execution_count": 6,
   "metadata": {},
   "outputs": [
    {
     "data": {
      "text/plain": [
       "[' I like to go to see Red Bull as they have some pretty interesting cars on display at their new campus.']"
      ]
     },
     "execution_count": 6,
     "metadata": {},
     "output_type": "execute_result"
    }
   ],
   "source": [
    "generate_reply(\"What do you like to do on the weekend?\")"
   ]
  }
 ],
 "metadata": {
  "kernelspec": {
   "display_name": "Python 3",
   "language": "python",
   "name": "python3"
  },
  "language_info": {
   "codemirror_mode": {
    "name": "ipython",
    "version": 3
   },
   "file_extension": ".py",
   "mimetype": "text/x-python",
   "name": "python",
   "nbconvert_exporter": "python",
   "pygments_lexer": "ipython3",
   "version": "3.7.6"
  }
 },
 "nbformat": 4,
 "nbformat_minor": 4
}
