{
 "cells": [
  {
   "cell_type": "code",
   "execution_count": 1,
   "metadata": {},
   "outputs": [
    {
     "name": "stdout",
     "output_type": "stream",
     "text": [
      "WARNING:tensorflow:\n",
      "The TensorFlow contrib module will not be included in TensorFlow 2.0.\n",
      "For more information, please see:\n",
      "  * https://github.com/tensorflow/community/blob/master/rfcs/20180907-contrib-sunset.md\n",
      "  * https://github.com/tensorflow/addons\n",
      "  * https://github.com/tensorflow/io (for I/O related ops)\n",
      "If you depend on functionality not listed there, please file an issue.\n",
      "\n",
      "Loading checkpoint checkpoint\\run_10\\model-200\n",
      "INFO:tensorflow:Restoring parameters from checkpoint\\run_10\\model-200\n"
     ]
    }
   ],
   "source": [
    "import agent\n",
    "#import os\n",
    "#os.environ['TF_CPP_MIN_LOG_LEVEL'] = '3' "
   ]
  },
  {
   "cell_type": "code",
   "execution_count": 5,
   "metadata": {},
   "outputs": [
    {
     "name": "stdout",
     "output_type": "stream",
     "text": [
      "> Are you human?\n",
      "0.75 0.7715167498104595\n",
      " No, I'm a wormhole person. GN\n",
      "> What is a wormhole person?\n",
      "0.5 0.43301270189221935\n",
      " A wormhole person is someone who goes outside and probes the weather. GN\n",
      "> What is the one thing that you like the most in this world?\n",
      "0.5262348115842176 0.5855400437691199\n",
      " I really enjoy reading. I think it is the rich and wonderful diversity in the world around me. GN\n",
      "> Who made you?\n",
      "0.5 0.3779644730092272\n",
      " Paul and his wife, they made me. Paul was the son of a doctor and his wife was a professor at Emerson College.  GN\n",
      "> Where did they make you?\n",
      "0.6172133998483676 0.3086066999241838\n",
      " My dad and I would ride around the decked out stretch in the snow and grouse on the beach. GN\n",
      "> Where are you?\n",
      "0.8944271909999159 0.4743416490252569\n",
      " Seattle, originally. GN\n",
      "> q\n"
     ]
    }
   ],
   "source": [
    "input_sentence = ''\n",
    "similarity_threshhold = 0.85 #Below this threshhold, the question is generated isntead of retrieved.\n",
    "while(1):\n",
    "    try:\n",
    "        # Get input sentence\n",
    "        input_sentence = input('> ')\n",
    "        # Check if it is quit case\n",
    "        if input_sentence == 'q' or input_sentence == 'quit': break\n",
    "\n",
    "        processed_text_input, user_noun, orig_noun, noun_topics  = agent.process_user_input(input_sentence)\n",
    "        answer_id, max_sim_val = agent.find_question_template(processed_text_input)[0:2]\n",
    "        \n",
    "        #Check the retrieval structure if a higher question similarity is found.\n",
    "        answer, sim_val_2 = agent.find_question_n_answer_retrieval(input_sentence)[0:2]\n",
    "        print(sim_val_2, max_sim_val)\n",
    "        if (sim_val_2 < similarity_threshhold) and (max_sim_val < similarity_threshhold):\n",
    "            ans = agent.generate_reply(input_sentence)\n",
    "            print(ans[0], \"GN\")\n",
    "        else:\n",
    "            if sim_val_2 > max_sim_val:\n",
    "                if answer != None:\n",
    "                    print(answer)\n",
    "                else:\n",
    "                    ans = agent.generate_reply(input_sentence)\n",
    "                    print(ans[0], \"GN\")\n",
    "            #print(answer_id)\n",
    "            elif user_noun != None:\n",
    "                print(user_noun, orig_noun)\n",
    "                answer, nouns, answer_sentiment = agent.fetch_answer_template(answer_id, user_noun, noun_topics)\n",
    "                #print('\\n',input_sentence)#, question_sentiment)\n",
    "                print(agent.process_agent_output(answer.sample().iloc[0],\n",
    "                                                 orig_noun, nouns,noun_topics, answer_sentiment))\n",
    "            #The likes/dislikes template cannot handle the user input, introduce generative model.    \n",
    "            else:\n",
    "                ans = agent.generate_reply(input_sentence)\n",
    "                #print('\\n',input_sentence)#, question_sentiment)\n",
    "                print(ans[0], \"GN\")\n",
    "    except KeyError:\n",
    "        print(\"Error: Encountered unknown word.\")"
   ]
  }
 ],
 "metadata": {
  "kernelspec": {
   "display_name": "Python 3",
   "language": "python",
   "name": "python3"
  },
  "language_info": {
   "codemirror_mode": {
    "name": "ipython",
    "version": 3
   },
   "file_extension": ".py",
   "mimetype": "text/x-python",
   "name": "python",
   "nbconvert_exporter": "python",
   "pygments_lexer": "ipython3",
   "version": "3.7.6"
  }
 },
 "nbformat": 4,
 "nbformat_minor": 4
}
