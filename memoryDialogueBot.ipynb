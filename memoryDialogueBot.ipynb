{
 "cells": [
  {
   "cell_type": "code",
   "execution_count": 1,
   "metadata": {},
   "outputs": [
    {
     "name": "stdout",
     "output_type": "stream",
     "text": [
      "WARNING:tensorflow:\n",
      "The TensorFlow contrib module will not be included in TensorFlow 2.0.\n",
      "For more information, please see:\n",
      "  * https://github.com/tensorflow/community/blob/master/rfcs/20180907-contrib-sunset.md\n",
      "  * https://github.com/tensorflow/addons\n",
      "  * https://github.com/tensorflow/io (for I/O related ops)\n",
      "If you depend on functionality not listed there, please file an issue.\n",
      "\n",
      "Loading checkpoint checkpoint\\run_10\\model-200\n",
      "INFO:tensorflow:Restoring parameters from checkpoint\\run_10\\model-200\n"
     ]
    }
   ],
   "source": [
    "import agent\n",
    "#import os\n",
    "#os.environ['TF_CPP_MIN_LOG_LEVEL'] = '3' "
   ]
  },
  {
   "cell_type": "code",
   "execution_count": 3,
   "metadata": {},
   "outputs": [
    {
     "name": "stdout",
     "output_type": "stream",
     "text": [
      "> What are your favorite hobbies=\n",
      "0.6 0.6324555320336759\n",
      "WARNING:tensorflow:From c:\\users\\mik_l\\desktop\\env\\lib\\site-packages\\gpt_2_simple\\src\\sample.py:32: where (from tensorflow.python.ops.array_ops) is deprecated and will be removed in a future version.\n",
      "Instructions for updating:\n",
      "Use tf.where in 2.0, which has the same broadcast rule as np.where\n",
      ")? I like to read and write. GN\n",
      "> What are your favorite hobbies?\n",
      "0.9128709291752769 0.7216878364870323\n",
      "I like to ski, I like playing video games, reading, and traveling.\n",
      "> What are your favorite hobbies?\n",
      "0.9128709291752769 0.7216878364870323\n",
      "I'm usually out in nature photographing something.\n",
      "> What do you like to do on your free time?\n",
      "0.9 0.7144345083117604\n",
      "I basically spend time with my family and friends, my hobbies include biking and reading.\n",
      "> What hobbies do you like?\n",
      "0.816496580927726 0.875\n",
      "I like scuba divigin.\n",
      "> What are your favorite interests?\n",
      "0.9128709291752769 0.9428090415820635\n",
      "It has to be to sing and to play board games.\n",
      "> What are your interests?\n",
      "1.0 0.875\n",
      "I like to play tennis and I like to dance too.\n",
      "> Do you like any sports?\n",
      "0.7302967433402214 0.8432740427115678\n",
      " Basketball, football, and track and field (seriously). GN\n",
      "> What sports do you play?\n",
      "0.8333333333333334 0.8249579113843055\n",
      " I'm a Freelance Musician and I also like running! GN\n",
      "> What are you?\n",
      "0.8164965809277261 0.6324555320336759\n",
      " I'm from the Midwest. GN\n",
      "> What are your favorite hobbies?\n",
      "0.9128709291752769 0.7216878364870323\n",
      "Well I like to cook, if you can call that a hobby and I like to read alot.\n",
      "> What do you do on your spare time?\n",
      "0.875 0.5\n",
      "I like getting together with friends.\n",
      "> Hello\n",
      "0.3779644730092272 0\n",
      " there, How's your day going? Good so far. GN\n",
      "> What is your name?\n",
      "0.9128709291752769 0.6324555320336759\n",
      "My Name is Ulrich.\n",
      "> What is your name?\n",
      "0.9128709291752769 0.6324555320336759\n",
      "My name is Paul.\n",
      "> What do you work with?\n",
      "0.8333333333333334 0.8249579113843055\n",
      " Well, I run a small business that does business development for a living. GN\n",
      "> Do you like any animals?\n",
      "0.8333333333333334 0.8432740427115678\n",
      " I'm a big fan of herrier and her poodle but I'm not sure what she likes most. GN\n",
      "> q\n"
     ]
    }
   ],
   "source": [
    "input_sentence = ''\n",
    "similarity_threshhold = 0.85 #Below this threshhold, the question is generated isntead of retrieved.\n",
    "while(1):\n",
    "    try:\n",
    "        # Get input sentence\n",
    "        input_sentence = input('> ')\n",
    "        # Check if it is quit case\n",
    "        if input_sentence == 'q' or input_sentence == 'quit': break\n",
    "\n",
    "        processed_text_input, user_noun, orig_noun, noun_topics  = agent.process_user_input(input_sentence)\n",
    "        answer_id, max_sim_val = agent.find_question_template(processed_text_input)[0:2]\n",
    "        \n",
    "        #Check the retrieval structure if a higher question similarity is found.\n",
    "        answer, sim_val_2 = agent.find_question_n_answer_retrieval(input_sentence)[0:2]\n",
    "        print(sim_val_2, max_sim_val)\n",
    "        if (sim_val_2 < similarity_threshhold) and (max_sim_val < similarity_threshhold):\n",
    "            ans = agent.generate_reply(input_sentence)\n",
    "            print(ans[0], \"GN\")\n",
    "        else:\n",
    "            if sim_val_2 > max_sim_val:\n",
    "                if answer != None:\n",
    "                    print(answer)\n",
    "                else:\n",
    "                    ans = agent.generate_reply(input_sentence)\n",
    "                    print(ans[0], \"GN\")\n",
    "            #print(answer_id)\n",
    "            elif user_noun != None:\n",
    "                #print(user_noun, orig_noun)\n",
    "                answer, nouns, answer_sentiment = agent.fetch_answer_template(answer_id, user_noun, noun_topics)\n",
    "                #print('\\n',input_sentence)#, question_sentiment)\n",
    "                answer = answer.sample().iloc[0]\n",
    "                print(agent.process_agent_output(answer,\n",
    "                                                 orig_noun, nouns,noun_topics, answer_sentiment))\n",
    "            #The likes/dislikes template cannot handle the user input, introduce generative model.    \n",
    "            else:\n",
    "                ans = agent.generate_reply(input_sentence)\n",
    "                #print('\\n',input_sentence)#, question_sentiment)\n",
    "                print(ans[0], \"GN\")\n",
    "    except KeyError:\n",
    "        print(\"Error: Encountered unknown word.\")"
   ]
  }
 ],
 "metadata": {
  "kernelspec": {
   "display_name": "Python 3",
   "language": "python",
   "name": "python3"
  },
  "language_info": {
   "codemirror_mode": {
    "name": "ipython",
    "version": 3
   },
   "file_extension": ".py",
   "mimetype": "text/x-python",
   "name": "python",
   "nbconvert_exporter": "python",
   "pygments_lexer": "ipython3",
   "version": "3.7.6"
  }
 },
 "nbformat": 4,
 "nbformat_minor": 4
}
